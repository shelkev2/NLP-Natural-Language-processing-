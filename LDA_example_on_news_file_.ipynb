{
  "nbformat": 4,
  "nbformat_minor": 0,
  "metadata": {
    "colab": {
      "name": "LDA example on news file .ipynb",
      "version": "0.3.2",
      "provenance": [],
      "collapsed_sections": []
    },
    "kernelspec": {
      "name": "python3",
      "display_name": "Python 3"
    }
  },
  "cells": [
    {
      "cell_type": "code",
      "metadata": {
        "id": "-7DzivgfzC1X",
        "colab_type": "code",
        "colab": {}
      },
      "source": [
        "import pandas as pd"
      ],
      "execution_count": 0,
      "outputs": []
    },
    {
      "cell_type": "code",
      "metadata": {
        "id": "5asGnzVZzVWM",
        "colab_type": "code",
        "colab": {
          "resources": {
            "http://localhost:8080/nbextensions/google.colab/files.js": {
              "data": "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",
              "ok": true,
              "headers": [
                [
                  "content-type",
                  "application/javascript"
                ]
              ],
              "status": 200,
              "status_text": ""
            }
          },
          "base_uri": "https://localhost:8080/",
          "height": 91
        },
        "outputId": "7ae0343e-331a-4a36-c538-a03f5b176487"
      },
      "source": [
        "from google.colab import files\n",
        "\n",
        "uploaded = files.upload()\n",
        "\n",
        "for fn in uploaded.keys():\n",
        "  print('User uploaded file \"{name}\" with length {length} bytes'.format(\n",
        "      name=fn, length=len(uploaded[fn])))"
      ],
      "execution_count": 2,
      "outputs": [
        {
          "output_type": "display_data",
          "data": {
            "text/html": [
              "\n",
              "     <input type=\"file\" id=\"files-7bd01d9a-595b-48c6-93e0-bf7f01dd83a8\" name=\"files[]\" multiple disabled />\n",
              "     <output id=\"result-7bd01d9a-595b-48c6-93e0-bf7f01dd83a8\">\n",
              "      Upload widget is only available when the cell has been executed in the\n",
              "      current browser session. Please rerun this cell to enable.\n",
              "      </output>\n",
              "      <script src=\"/nbextensions/google.colab/files.js\"></script> "
            ],
            "text/plain": [
              "<IPython.core.display.HTML object>"
            ]
          },
          "metadata": {
            "tags": []
          }
        },
        {
          "output_type": "stream",
          "text": [
            "Saving abcnews-date-text.csv to abcnews-date-text.csv\n",
            "User uploaded file \"abcnews-date-text.csv\" with length 55392904 bytes\n"
          ],
          "name": "stdout"
        }
      ]
    },
    {
      "cell_type": "code",
      "metadata": {
        "id": "kxpWELY1zaa7",
        "colab_type": "code",
        "colab": {}
      },
      "source": [
        "# download data from kaggle :          https://www.kaggle.com/therohk/million-headlines/data\n",
        "\n",
        "df = pd.read_csv('abcnews-date-text.csv', error_bad_lines=False);\n",
        "data_text = df[['headline_text']]\n",
        "data_text['index'] = data_text.index\n",
        "documents = data_text"
      ],
      "execution_count": 0,
      "outputs": []
    },
    {
      "cell_type": "code",
      "metadata": {
        "id": "4yeYnNA90D0o",
        "colab_type": "code",
        "colab": {
          "base_uri": "https://localhost:8080/",
          "height": 153
        },
        "outputId": "07a70570-a12d-48c4-8092-83a2332df168"
      },
      "source": [
        "# data length & data view\n",
        "\n",
        "\n",
        "print(len(documents))\n",
        "print(documents[:6])"
      ],
      "execution_count": 6,
      "outputs": [
        {
          "output_type": "stream",
          "text": [
            "1103663\n",
            "                                       headline_text  index\n",
            "0  aba decides against community broadcasting lic...      0\n",
            "1     act fire witnesses must be aware of defamation      1\n",
            "2     a g calls for infrastructure protection summit      2\n",
            "3           air nz staff in aust strike for pay rise      3\n",
            "4      air nz strike to affect australian travellers      4\n",
            "5                  ambitious olsson wins triple jump      5\n"
          ],
          "name": "stdout"
        }
      ]
    },
    {
      "cell_type": "markdown",
      "metadata": {
        "id": "-TAJLHsZ0ZyU",
        "colab_type": "text"
      },
      "source": [
        "# Data Preprocessing\n",
        "\n",
        "Tokenization: Split the text into sentences and the sentences into words.\n",
        "\n",
        "Lowercase the words and remove punctuation.\n",
        "\n",
        "Words that have fewer than 3 characters are removed.\n",
        "\n",
        "All stopwords are removed.\n",
        "\n",
        "Words are lemmatized — words in third person are changed to first person and verbs in past and future tenses are changed into present.\n",
        "\n",
        "Words are stemmed — words are reduced to their root form."
      ]
    },
    {
      "cell_type": "code",
      "metadata": {
        "id": "TSLA9E9b0bZG",
        "colab_type": "code",
        "colab": {}
      },
      "source": [
        "import gensim\n",
        "from gensim.utils import simple_preprocess\n",
        "from gensim.parsing.preprocessing import STOPWORDS\n",
        "from nltk.stem import WordNetLemmatizer, SnowballStemmer\n",
        "from nltk.stem.porter import *\n",
        "import numpy as np\n",
        "np.random.seed(2018)"
      ],
      "execution_count": 0,
      "outputs": []
    },
    {
      "cell_type": "code",
      "metadata": {
        "id": "Hm2PV7ho0rkV",
        "colab_type": "code",
        "colab": {
          "base_uri": "https://localhost:8080/",
          "height": 68
        },
        "outputId": "a5868c83-198b-4df4-c1eb-8eecde990a26"
      },
      "source": [
        "import nltk\n",
        "nltk.download('wordnet')"
      ],
      "execution_count": 8,
      "outputs": [
        {
          "output_type": "stream",
          "text": [
            "[nltk_data] Downloading package wordnet to /root/nltk_data...\n",
            "[nltk_data]   Package wordnet is already up-to-date!\n"
          ],
          "name": "stdout"
        },
        {
          "output_type": "execute_result",
          "data": {
            "text/plain": [
              "True"
            ]
          },
          "metadata": {
            "tags": []
          },
          "execution_count": 8
        }
      ]
    },
    {
      "cell_type": "code",
      "metadata": {
        "id": "VU8g2gx50tVF",
        "colab_type": "code",
        "colab": {}
      },
      "source": [
        "stemmer = SnowballStemmer('english')\n",
        "\n",
        "\n",
        "def lemmatize_stemming(text):\n",
        "    return stemmer.stem(WordNetLemmatizer().lemmatize(text, pos='v'))\n",
        "def preprocess(text):\n",
        "    result = []\n",
        "    for token in gensim.utils.simple_preprocess(text):\n",
        "        if token not in gensim.parsing.preprocessing.STOPWORDS and len(token) > 3:\n",
        "            result.append(lemmatize_stemming(token))\n",
        "    return result"
      ],
      "execution_count": 0,
      "outputs": []
    },
    {
      "cell_type": "markdown",
      "metadata": {
        "id": "0lDkkwEZ1KPS",
        "colab_type": "text"
      },
      "source": [
        "# Select a document to preview after preprocessing."
      ]
    },
    {
      "cell_type": "code",
      "metadata": {
        "id": "QYiCj9Ho1K-K",
        "colab_type": "code",
        "colab": {
          "base_uri": "https://localhost:8080/",
          "height": 119
        },
        "outputId": "a000f77b-22b4-4469-d7ac-41703dc71387"
      },
      "source": [
        "doc_sample = documents[documents['index'] == 4310].values[0][0]\n",
        "\n",
        "print('original document: ')\n",
        "words = []\n",
        "for word in doc_sample.split(' '):\n",
        "    words.append(word)\n",
        "print(words)\n",
        "print('\\n\\n tokenized and lemmatized document: ')\n",
        "print(preprocess(doc_sample))"
      ],
      "execution_count": 13,
      "outputs": [
        {
          "output_type": "stream",
          "text": [
            "original document: \n",
            "['rain', 'helps', 'dampen', 'bushfires']\n",
            "\n",
            "\n",
            " tokenized and lemmatized document: \n",
            "['rain', 'help', 'dampen', 'bushfir']\n"
          ],
          "name": "stdout"
        }
      ]
    },
    {
      "cell_type": "markdown",
      "metadata": {
        "id": "kleJCETq1awx",
        "colab_type": "text"
      },
      "source": [
        "# Preprocess the headline text, saving the results as ‘processed_docs’"
      ]
    },
    {
      "cell_type": "code",
      "metadata": {
        "id": "4-eoyiBx1beN",
        "colab_type": "code",
        "colab": {
          "base_uri": "https://localhost:8080/",
          "height": 119
        },
        "outputId": "d6829081-abf7-4ecc-d8f3-fe44afed7029"
      },
      "source": [
        "processed_docs = documents['headline_text'].map(preprocess)\n",
        "processed_docs[:5]"
      ],
      "execution_count": 14,
      "outputs": [
        {
          "output_type": "execute_result",
          "data": {
            "text/plain": [
              "0     [decid, communiti, broadcast, licenc]\n",
              "1                        [wit, awar, defam]\n",
              "2    [call, infrastructur, protect, summit]\n",
              "3               [staff, aust, strike, rise]\n",
              "4      [strike, affect, australian, travel]\n",
              "Name: headline_text, dtype: object"
            ]
          },
          "metadata": {
            "tags": []
          },
          "execution_count": 14
        }
      ]
    },
    {
      "cell_type": "markdown",
      "metadata": {
        "id": "u3YveCZ91sjm",
        "colab_type": "text"
      },
      "source": [
        "# Bag of words on the dataset"
      ]
    },
    {
      "cell_type": "code",
      "metadata": {
        "id": "wnxu4tIQ1tO1",
        "colab_type": "code",
        "colab": {
          "base_uri": "https://localhost:8080/",
          "height": 204
        },
        "outputId": "5c6838eb-caec-4f19-fb6b-3534e94b138f"
      },
      "source": [
        "dictionary = gensim.corpora.Dictionary(processed_docs)\n",
        "count = 0\n",
        "for k, v in dictionary.iteritems():\n",
        "    print(k, v)\n",
        "    count += 1\n",
        "    if count > 10:\n",
        "        break"
      ],
      "execution_count": 15,
      "outputs": [
        {
          "output_type": "stream",
          "text": [
            "0 broadcast\n",
            "1 communiti\n",
            "2 decid\n",
            "3 licenc\n",
            "4 awar\n",
            "5 defam\n",
            "6 wit\n",
            "7 call\n",
            "8 infrastructur\n",
            "9 protect\n",
            "10 summit\n"
          ],
          "name": "stdout"
        }
      ]
    },
    {
      "cell_type": "markdown",
      "metadata": {
        "id": "WsjqZBbn2HmJ",
        "colab_type": "text"
      },
      "source": [
        "# Filter out tokens that appear in\n",
        "\n",
        "less than 15 documents (absolute number) or     \n",
        "more than 0.5 documents (fraction of total corpus size, not absolute number).  \n",
        "after the above two steps, keep only the first 100000 most frequent tokens."
      ]
    },
    {
      "cell_type": "code",
      "metadata": {
        "id": "6tv67sIi2K4T",
        "colab_type": "code",
        "colab": {}
      },
      "source": [
        "dictionary.filter_extremes(no_below=15, no_above=0.5, keep_n=100000)\n"
      ],
      "execution_count": 0,
      "outputs": []
    },
    {
      "cell_type": "markdown",
      "metadata": {
        "id": "l8haa5kd2Uuo",
        "colab_type": "text"
      },
      "source": [
        "# Gensim doc2bow\n",
        "For each document we create a dictionary reporting how many\n",
        "words and how many times those words appear. Save this to ‘bow_corpus’, then check our selected document earlier."
      ]
    },
    {
      "cell_type": "code",
      "metadata": {
        "id": "VMJMqBQR2XQn",
        "colab_type": "code",
        "colab": {
          "base_uri": "https://localhost:8080/",
          "height": 34
        },
        "outputId": "ecd26e9e-3c7d-4c15-be96-122c811b7490"
      },
      "source": [
        "bow_corpus = [dictionary.doc2bow(doc) for doc in processed_docs]\n",
        "bow_corpus[4310]"
      ],
      "execution_count": 17,
      "outputs": [
        {
          "output_type": "execute_result",
          "data": {
            "text/plain": [
              "[(76, 1), (112, 1), (484, 1), (4015, 1)]"
            ]
          },
          "metadata": {
            "tags": []
          },
          "execution_count": 17
        }
      ]
    },
    {
      "cell_type": "markdown",
      "metadata": {
        "id": "cVYG8GxH2fVY",
        "colab_type": "text"
      },
      "source": [
        "# Preview Bag Of Words for our sample preprocessed document."
      ]
    },
    {
      "cell_type": "code",
      "metadata": {
        "id": "_F9pFETG2f9u",
        "colab_type": "code",
        "colab": {
          "base_uri": "https://localhost:8080/",
          "height": 85
        },
        "outputId": "c3fccba6-43aa-49e4-8edc-93bf14e10950"
      },
      "source": [
        "bow_doc_4310 = bow_corpus[4310]\n",
        "for i in range(len(bow_doc_4310)):\n",
        "    print(\"Word {} (\\\"{}\\\") appears {} time.\".format(bow_doc_4310[i][0], \n",
        "                                               dictionary[bow_doc_4310[i][0]], \n",
        "bow_doc_4310[i][1]))"
      ],
      "execution_count": 18,
      "outputs": [
        {
          "output_type": "stream",
          "text": [
            "Word 76 (\"bushfir\") appears 1 time.\n",
            "Word 112 (\"help\") appears 1 time.\n",
            "Word 484 (\"rain\") appears 1 time.\n",
            "Word 4015 (\"dampen\") appears 1 time.\n"
          ],
          "name": "stdout"
        }
      ]
    },
    {
      "cell_type": "markdown",
      "metadata": {
        "id": "SKinx_Gd2pnJ",
        "colab_type": "text"
      },
      "source": [
        "# TF-IDF"
      ]
    },
    {
      "cell_type": "code",
      "metadata": {
        "id": "rtD4EFAP2q5D",
        "colab_type": "code",
        "colab": {}
      },
      "source": [
        "\n",
        "from gensim import corpora, models\n",
        "\n",
        "tfidf = models.TfidfModel(bow_corpus)\n",
        "\n",
        "corpus_tfidf = tfidf[bow_corpus]"
      ],
      "execution_count": 0,
      "outputs": []
    },
    {
      "cell_type": "code",
      "metadata": {
        "id": "j8C6t7oq2wck",
        "colab_type": "code",
        "colab": {
          "base_uri": "https://localhost:8080/",
          "height": 85
        },
        "outputId": "7003c8ab-56b2-4ca9-fadb-4b567dd680c1"
      },
      "source": [
        "\n",
        "from pprint import pprint\n",
        "\n",
        "for doc in corpus_tfidf:\n",
        "    pprint(doc)\n",
        "    break"
      ],
      "execution_count": 20,
      "outputs": [
        {
          "output_type": "stream",
          "text": [
            "[(0, 0.5893154583024485),\n",
            " (1, 0.3892866165028569),\n",
            " (2, 0.49651921997736453),\n",
            " (3, 0.5046106271280878)]\n"
          ],
          "name": "stdout"
        }
      ]
    },
    {
      "cell_type": "markdown",
      "metadata": {
        "id": "3byMwJUR3BcA",
        "colab_type": "text"
      },
      "source": [
        "# Running LDA using Bag of Words\n",
        "Train our lda model using gensim.models.LdaMulticore and save it to ‘lda_model’"
      ]
    },
    {
      "cell_type": "code",
      "metadata": {
        "id": "_2URuUMV3CUu",
        "colab_type": "code",
        "colab": {}
      },
      "source": [
        "lda_model = gensim.models.LdaMulticore(bow_corpus, num_topics=10, id2word=dictionary, passes=2, workers=2)"
      ],
      "execution_count": 0,
      "outputs": []
    },
    {
      "cell_type": "code",
      "metadata": {
        "id": "JoR2ws6Z3ExU",
        "colab_type": "code",
        "colab": {
          "base_uri": "https://localhost:8080/",
          "height": 377
        },
        "outputId": "4c3dc4ce-4dfd-4406-ddff-dbd729a7b786"
      },
      "source": [
        "for idx, topic in lda_model.print_topics(-1):\n",
        "    print('Topic: {} \\nWords: {}'.format(idx, topic))"
      ],
      "execution_count": 22,
      "outputs": [
        {
          "output_type": "stream",
          "text": [
            "Topic: 0 \n",
            "Words: 0.023*\"death\" + 0.020*\"hospit\" + 0.017*\"trial\" + 0.016*\"deal\" + 0.014*\"driver\" + 0.012*\"street\" + 0.010*\"flood\" + 0.010*\"babi\" + 0.009*\"east\" + 0.009*\"wall\"\n",
            "Topic: 1 \n",
            "Words: 0.025*\"world\" + 0.018*\"test\" + 0.016*\"interview\" + 0.015*\"australia\" + 0.012*\"leagu\" + 0.010*\"close\" + 0.010*\"game\" + 0.010*\"darwin\" + 0.009*\"take\" + 0.008*\"star\"\n",
            "Topic: 2 \n",
            "Words: 0.019*\"council\" + 0.018*\"countri\" + 0.016*\"nation\" + 0.016*\"plan\" + 0.015*\"tasmanian\" + 0.015*\"hour\" + 0.012*\"say\" + 0.011*\"citi\" + 0.011*\"news\" + 0.010*\"green\"\n",
            "Topic: 3 \n",
            "Words: 0.023*\"perth\" + 0.020*\"women\" + 0.018*\"miss\" + 0.017*\"sydney\" + 0.013*\"protest\" + 0.012*\"guilti\" + 0.011*\"search\" + 0.011*\"water\" + 0.011*\"john\" + 0.010*\"continu\"\n",
            "Topic: 4 \n",
            "Words: 0.028*\"elect\" + 0.019*\"say\" + 0.017*\"live\" + 0.017*\"famili\" + 0.016*\"chang\" + 0.011*\"park\" + 0.011*\"polit\" + 0.010*\"vote\" + 0.010*\"leader\" + 0.009*\"violenc\"\n",
            "Topic: 5 \n",
            "Words: 0.039*\"australia\" + 0.035*\"trump\" + 0.028*\"queensland\" + 0.015*\"tasmania\" + 0.014*\"turnbul\" + 0.013*\"say\" + 0.012*\"student\" + 0.011*\"case\" + 0.010*\"million\" + 0.009*\"hobart\"\n",
            "Topic: 6 \n",
            "Words: 0.031*\"charg\" + 0.030*\"court\" + 0.019*\"face\" + 0.017*\"murder\" + 0.016*\"adelaid\" + 0.016*\"final\" + 0.015*\"woman\" + 0.015*\"accus\" + 0.015*\"donald\" + 0.015*\"open\"\n",
            "Topic: 7 \n",
            "Words: 0.045*\"polic\" + 0.029*\"year\" + 0.021*\"attack\" + 0.018*\"kill\" + 0.018*\"north\" + 0.017*\"crash\" + 0.017*\"south\" + 0.017*\"coast\" + 0.015*\"alleg\" + 0.012*\"melbourn\"\n",
            "Topic: 8 \n",
            "Words: 0.031*\"govern\" + 0.018*\"market\" + 0.013*\"share\" + 0.012*\"australian\" + 0.012*\"warn\" + 0.011*\"busi\" + 0.011*\"bank\" + 0.010*\"high\" + 0.010*\"break\" + 0.009*\"fund\"\n",
            "Topic: 9 \n",
            "Words: 0.016*\"health\" + 0.015*\"rural\" + 0.014*\"power\" + 0.012*\"price\" + 0.012*\"hous\" + 0.012*\"communiti\" + 0.012*\"concern\" + 0.010*\"servic\" + 0.010*\"farm\" + 0.010*\"report\"\n"
          ],
          "name": "stdout"
        }
      ]
    },
    {
      "cell_type": "markdown",
      "metadata": {
        "id": "A5FrFFUQ3NvO",
        "colab_type": "text"
      },
      "source": [
        "# Running LDA using TF-IDF"
      ]
    },
    {
      "cell_type": "code",
      "metadata": {
        "id": "Q1ptuJ-A3OaG",
        "colab_type": "code",
        "colab": {
          "base_uri": "https://localhost:8080/",
          "height": 207
        },
        "outputId": "60bdcd46-bcee-41cd-8796-f6588e4bd952"
      },
      "source": [
        "lda_model_tfidf = gensim.models.LdaMulticore(corpus_tfidf, num_topics=10, id2word=dictionary, passes=2, workers=4)\n",
        "for idx, topic in lda_model_tfidf.print_topics(-1):\n",
        "    print('Topic: {} Word: {}'.format(idx, topic))"
      ],
      "execution_count": 23,
      "outputs": [
        {
          "output_type": "stream",
          "text": [
            "Topic: 0 Word: 0.009*\"govern\" + 0.008*\"health\" + 0.007*\"fund\" + 0.006*\"plan\" + 0.006*\"farm\" + 0.006*\"council\" + 0.005*\"industri\" + 0.005*\"sport\" + 0.005*\"budget\" + 0.005*\"region\"\n",
            "Topic: 1 Word: 0.018*\"polic\" + 0.016*\"charg\" + 0.013*\"murder\" + 0.011*\"crash\" + 0.011*\"court\" + 0.011*\"woman\" + 0.009*\"alleg\" + 0.009*\"arrest\" + 0.008*\"jail\" + 0.008*\"kill\"\n",
            "Topic: 2 Word: 0.011*\"podcast\" + 0.010*\"final\" + 0.006*\"climat\" + 0.006*\"world\" + 0.006*\"monday\" + 0.006*\"tuesday\" + 0.005*\"beat\" + 0.005*\"leagu\" + 0.005*\"season\" + 0.005*\"wrap\"\n",
            "Topic: 3 Word: 0.022*\"countri\" + 0.021*\"hour\" + 0.010*\"turnbul\" + 0.008*\"donald\" + 0.006*\"water\" + 0.006*\"drought\" + 0.005*\"murray\" + 0.005*\"quiz\" + 0.004*\"social\" + 0.004*\"farmer\"\n",
            "Topic: 4 Word: 0.012*\"drum\" + 0.009*\"septemb\" + 0.008*\"plead\" + 0.008*\"guilti\" + 0.007*\"asylum\" + 0.007*\"august\" + 0.007*\"pacif\" + 0.006*\"sexual\" + 0.006*\"seeker\" + 0.006*\"teenag\"\n",
            "Topic: 5 Word: 0.016*\"market\" + 0.013*\"news\" + 0.012*\"rural\" + 0.009*\"share\" + 0.008*\"nation\" + 0.007*\"elect\" + 0.007*\"senat\" + 0.006*\"australian\" + 0.006*\"busi\" + 0.006*\"abbott\"\n",
            "Topic: 6 Word: 0.010*\"weather\" + 0.007*\"juli\" + 0.007*\"festiv\" + 0.007*\"rugbi\" + 0.007*\"wednesday\" + 0.006*\"peter\" + 0.006*\"thursday\" + 0.006*\"stori\" + 0.006*\"andrew\" + 0.006*\"june\"\n",
            "Topic: 7 Word: 0.010*\"australia\" + 0.007*\"south\" + 0.007*\"korea\" + 0.006*\"violenc\" + 0.006*\"north\" + 0.006*\"queensland\" + 0.006*\"mother\" + 0.006*\"test\" + 0.005*\"christma\" + 0.005*\"domest\"\n",
            "Topic: 8 Word: 0.018*\"interview\" + 0.009*\"hobart\" + 0.008*\"michael\" + 0.008*\"friday\" + 0.007*\"marriag\" + 0.007*\"novemb\" + 0.006*\"capit\" + 0.006*\"parliament\" + 0.005*\"syrian\" + 0.005*\"indonesia\"\n",
            "Topic: 9 Word: 0.021*\"trump\" + 0.008*\"royal\" + 0.007*\"tasmania\" + 0.006*\"hunter\" + 0.006*\"energi\" + 0.006*\"burn\" + 0.005*\"commiss\" + 0.005*\"bushfir\" + 0.005*\"coast\" + 0.004*\"blaze\"\n"
          ],
          "name": "stdout"
        }
      ]
    },
    {
      "cell_type": "markdown",
      "metadata": {
        "id": "ITsUWaqx3RCG",
        "colab_type": "text"
      },
      "source": [
        "# Performance evaluation by classifying sample document using LDA Bag of Words model"
      ]
    },
    {
      "cell_type": "code",
      "metadata": {
        "id": "QjHA-lkz3Ub7",
        "colab_type": "code",
        "colab": {
          "base_uri": "https://localhost:8080/",
          "height": 34
        },
        "outputId": "a473ebd7-d6c0-4134-a823-5988ec36c6c8"
      },
      "source": [
        "processed_docs[4310]"
      ],
      "execution_count": 24,
      "outputs": [
        {
          "output_type": "execute_result",
          "data": {
            "text/plain": [
              "['rain', 'help', 'dampen', 'bushfir']"
            ]
          },
          "metadata": {
            "tags": []
          },
          "execution_count": 24
        }
      ]
    },
    {
      "cell_type": "code",
      "metadata": {
        "id": "uF67Ap2h3YnK",
        "colab_type": "code",
        "colab": {
          "base_uri": "https://localhost:8080/",
          "height": 547
        },
        "outputId": "f7694a37-de0a-4d8a-be8e-59853ede37cf"
      },
      "source": [
        "for index, score in sorted(lda_model[bow_corpus[4310]], key=lambda tup: -1*tup[1]):\n",
        "    print(\"\\nScore: {}\\t \\nTopic: {}\".format(score, lda_model.print_topic(index, 10)))"
      ],
      "execution_count": 25,
      "outputs": [
        {
          "output_type": "stream",
          "text": [
            "\n",
            "Score: 0.30915534496307373\t \n",
            "Topic: 0.031*\"govern\" + 0.018*\"market\" + 0.013*\"share\" + 0.012*\"australian\" + 0.012*\"warn\" + 0.011*\"busi\" + 0.011*\"bank\" + 0.010*\"high\" + 0.010*\"break\" + 0.009*\"fund\"\n",
            "\n",
            "Score: 0.2901693284511566\t \n",
            "Topic: 0.016*\"health\" + 0.015*\"rural\" + 0.014*\"power\" + 0.012*\"price\" + 0.012*\"hous\" + 0.012*\"communiti\" + 0.012*\"concern\" + 0.010*\"servic\" + 0.010*\"farm\" + 0.010*\"report\"\n",
            "\n",
            "Score: 0.26066818833351135\t \n",
            "Topic: 0.028*\"elect\" + 0.019*\"say\" + 0.017*\"live\" + 0.017*\"famili\" + 0.016*\"chang\" + 0.011*\"park\" + 0.011*\"polit\" + 0.010*\"vote\" + 0.010*\"leader\" + 0.009*\"violenc\"\n",
            "\n",
            "Score: 0.02000299282371998\t \n",
            "Topic: 0.023*\"perth\" + 0.020*\"women\" + 0.018*\"miss\" + 0.017*\"sydney\" + 0.013*\"protest\" + 0.012*\"guilti\" + 0.011*\"search\" + 0.011*\"water\" + 0.011*\"john\" + 0.010*\"continu\"\n",
            "\n",
            "Score: 0.020001640543341637\t \n",
            "Topic: 0.023*\"death\" + 0.020*\"hospit\" + 0.017*\"trial\" + 0.016*\"deal\" + 0.014*\"driver\" + 0.012*\"street\" + 0.010*\"flood\" + 0.010*\"babi\" + 0.009*\"east\" + 0.009*\"wall\"\n",
            "\n",
            "Score: 0.02000092901289463\t \n",
            "Topic: 0.045*\"polic\" + 0.029*\"year\" + 0.021*\"attack\" + 0.018*\"kill\" + 0.018*\"north\" + 0.017*\"crash\" + 0.017*\"south\" + 0.017*\"coast\" + 0.015*\"alleg\" + 0.012*\"melbourn\"\n",
            "\n",
            "Score: 0.020000794902443886\t \n",
            "Topic: 0.019*\"council\" + 0.018*\"countri\" + 0.016*\"nation\" + 0.016*\"plan\" + 0.015*\"tasmanian\" + 0.015*\"hour\" + 0.012*\"say\" + 0.011*\"citi\" + 0.011*\"news\" + 0.010*\"green\"\n",
            "\n",
            "Score: 0.020000752061605453\t \n",
            "Topic: 0.039*\"australia\" + 0.035*\"trump\" + 0.028*\"queensland\" + 0.015*\"tasmania\" + 0.014*\"turnbul\" + 0.013*\"say\" + 0.012*\"student\" + 0.011*\"case\" + 0.010*\"million\" + 0.009*\"hobart\"\n",
            "\n",
            "Score: 0.019999997690320015\t \n",
            "Topic: 0.025*\"world\" + 0.018*\"test\" + 0.016*\"interview\" + 0.015*\"australia\" + 0.012*\"leagu\" + 0.010*\"close\" + 0.010*\"game\" + 0.010*\"darwin\" + 0.009*\"take\" + 0.008*\"star\"\n",
            "\n",
            "Score: 0.019999997690320015\t \n",
            "Topic: 0.031*\"charg\" + 0.030*\"court\" + 0.019*\"face\" + 0.017*\"murder\" + 0.016*\"adelaid\" + 0.016*\"final\" + 0.015*\"woman\" + 0.015*\"accus\" + 0.015*\"donald\" + 0.015*\"open\"\n"
          ],
          "name": "stdout"
        }
      ]
    },
    {
      "cell_type": "markdown",
      "metadata": {
        "id": "OO2ABgZy3b4m",
        "colab_type": "text"
      },
      "source": [
        "# Performance evaluation by classifying sample document using LDA TF-IDF model."
      ]
    },
    {
      "cell_type": "code",
      "metadata": {
        "id": "4RS9Jg2B3e9l",
        "colab_type": "code",
        "colab": {
          "base_uri": "https://localhost:8080/",
          "height": 547
        },
        "outputId": "b30acb8a-244f-45fe-e73b-8df4324386c4"
      },
      "source": [
        "for index, score in sorted(lda_model_tfidf[bow_corpus[4310]], key=lambda tup: -1*tup[1]):\n",
        "    print(\"\\nScore: {}\\t \\nTopic: {}\".format(score, lda_model_tfidf.print_topic(index, 10)))"
      ],
      "execution_count": 26,
      "outputs": [
        {
          "output_type": "stream",
          "text": [
            "\n",
            "Score: 0.5362162590026855\t \n",
            "Topic: 0.021*\"trump\" + 0.008*\"royal\" + 0.007*\"tasmania\" + 0.006*\"hunter\" + 0.006*\"energi\" + 0.006*\"burn\" + 0.005*\"commiss\" + 0.005*\"bushfir\" + 0.005*\"coast\" + 0.004*\"blaze\"\n",
            "\n",
            "Score: 0.30373987555503845\t \n",
            "Topic: 0.018*\"interview\" + 0.009*\"hobart\" + 0.008*\"michael\" + 0.008*\"friday\" + 0.007*\"marriag\" + 0.007*\"novemb\" + 0.006*\"capit\" + 0.006*\"parliament\" + 0.005*\"syrian\" + 0.005*\"indonesia\"\n",
            "\n",
            "Score: 0.020016519352793694\t \n",
            "Topic: 0.010*\"weather\" + 0.007*\"juli\" + 0.007*\"festiv\" + 0.007*\"rugbi\" + 0.007*\"wednesday\" + 0.006*\"peter\" + 0.006*\"thursday\" + 0.006*\"stori\" + 0.006*\"andrew\" + 0.006*\"june\"\n",
            "\n",
            "Score: 0.020010028034448624\t \n",
            "Topic: 0.022*\"countri\" + 0.021*\"hour\" + 0.010*\"turnbul\" + 0.008*\"donald\" + 0.006*\"water\" + 0.006*\"drought\" + 0.005*\"murray\" + 0.005*\"quiz\" + 0.004*\"social\" + 0.004*\"farmer\"\n",
            "\n",
            "Score: 0.0200051162391901\t \n",
            "Topic: 0.009*\"govern\" + 0.008*\"health\" + 0.007*\"fund\" + 0.006*\"plan\" + 0.006*\"farm\" + 0.006*\"council\" + 0.005*\"industri\" + 0.005*\"sport\" + 0.005*\"budget\" + 0.005*\"region\"\n",
            "\n",
            "Score: 0.020004965364933014\t \n",
            "Topic: 0.010*\"australia\" + 0.007*\"south\" + 0.007*\"korea\" + 0.006*\"violenc\" + 0.006*\"north\" + 0.006*\"queensland\" + 0.006*\"mother\" + 0.006*\"test\" + 0.005*\"christma\" + 0.005*\"domest\"\n",
            "\n",
            "Score: 0.020002959296107292\t \n",
            "Topic: 0.012*\"drum\" + 0.009*\"septemb\" + 0.008*\"plead\" + 0.008*\"guilti\" + 0.007*\"asylum\" + 0.007*\"august\" + 0.007*\"pacif\" + 0.006*\"sexual\" + 0.006*\"seeker\" + 0.006*\"teenag\"\n",
            "\n",
            "Score: 0.020002085715532303\t \n",
            "Topic: 0.018*\"polic\" + 0.016*\"charg\" + 0.013*\"murder\" + 0.011*\"crash\" + 0.011*\"court\" + 0.011*\"woman\" + 0.009*\"alleg\" + 0.009*\"arrest\" + 0.008*\"jail\" + 0.008*\"kill\"\n",
            "\n",
            "Score: 0.02000124379992485\t \n",
            "Topic: 0.016*\"market\" + 0.013*\"news\" + 0.012*\"rural\" + 0.009*\"share\" + 0.008*\"nation\" + 0.007*\"elect\" + 0.007*\"senat\" + 0.006*\"australian\" + 0.006*\"busi\" + 0.006*\"abbott\"\n",
            "\n",
            "Score: 0.02000095322728157\t \n",
            "Topic: 0.011*\"podcast\" + 0.010*\"final\" + 0.006*\"climat\" + 0.006*\"world\" + 0.006*\"monday\" + 0.006*\"tuesday\" + 0.005*\"beat\" + 0.005*\"leagu\" + 0.005*\"season\" + 0.005*\"wrap\"\n"
          ],
          "name": "stdout"
        }
      ]
    },
    {
      "cell_type": "markdown",
      "metadata": {
        "id": "tMUqK7yT3nKF",
        "colab_type": "text"
      },
      "source": [
        "# Testing model on unseen document"
      ]
    },
    {
      "cell_type": "code",
      "metadata": {
        "id": "-B6KQyOj3oEa",
        "colab_type": "code",
        "colab": {
          "base_uri": "https://localhost:8080/",
          "height": 187
        },
        "outputId": "013e11f6-4915-44ce-c7c8-c62efc334274"
      },
      "source": [
        "unseen_document = 'How a Pentagon deal became an identity crisis for Google'\n",
        "bow_vector = dictionary.doc2bow(preprocess(unseen_document))\n",
        "for index, score in sorted(lda_model[bow_vector], key=lambda tup: -1*tup[1]):\n",
        "    print(\"Score: {}\\t Topic: {}\".format(score, lda_model.print_topic(index, 5)))"
      ],
      "execution_count": 27,
      "outputs": [
        {
          "output_type": "stream",
          "text": [
            "Score: 0.3498546779155731\t Topic: 0.028*\"elect\" + 0.019*\"say\" + 0.017*\"live\" + 0.017*\"famili\" + 0.016*\"chang\"\n",
            "Score: 0.1834772229194641\t Topic: 0.023*\"death\" + 0.020*\"hospit\" + 0.017*\"trial\" + 0.016*\"deal\" + 0.014*\"driver\"\n",
            "Score: 0.18333333730697632\t Topic: 0.031*\"govern\" + 0.018*\"market\" + 0.013*\"share\" + 0.012*\"australian\" + 0.012*\"warn\"\n",
            "Score: 0.183333158493042\t Topic: 0.039*\"australia\" + 0.035*\"trump\" + 0.028*\"queensland\" + 0.015*\"tasmania\" + 0.014*\"turnbul\"\n",
            "Score: 0.01666819490492344\t Topic: 0.016*\"health\" + 0.015*\"rural\" + 0.014*\"power\" + 0.012*\"price\" + 0.012*\"hous\"\n",
            "Score: 0.016666723415255547\t Topic: 0.023*\"perth\" + 0.020*\"women\" + 0.018*\"miss\" + 0.017*\"sydney\" + 0.013*\"protest\"\n",
            "Score: 0.016666676849126816\t Topic: 0.019*\"council\" + 0.018*\"countri\" + 0.016*\"nation\" + 0.016*\"plan\" + 0.015*\"tasmanian\"\n",
            "Score: 0.01666666753590107\t Topic: 0.025*\"world\" + 0.018*\"test\" + 0.016*\"interview\" + 0.015*\"australia\" + 0.012*\"leagu\"\n",
            "Score: 0.01666666753590107\t Topic: 0.031*\"charg\" + 0.030*\"court\" + 0.019*\"face\" + 0.017*\"murder\" + 0.016*\"adelaid\"\n",
            "Score: 0.01666666753590107\t Topic: 0.045*\"polic\" + 0.029*\"year\" + 0.021*\"attack\" + 0.018*\"kill\" + 0.018*\"north\"\n"
          ],
          "name": "stdout"
        }
      ]
    },
    {
      "cell_type": "code",
      "metadata": {
        "id": "jNNjbL919a-7",
        "colab_type": "code",
        "colab": {}
      },
      "source": [
        ""
      ],
      "execution_count": 0,
      "outputs": []
    }
  ]
}